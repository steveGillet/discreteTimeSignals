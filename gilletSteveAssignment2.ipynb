{
 "cells": [
  {
   "cell_type": "code",
   "execution_count": 30,
   "metadata": {},
   "outputs": [
    {
     "name": "stdout",
     "output_type": "stream",
     "text": [
      "[-3 -2 -1  0  1  2]\n"
     ]
    },
    {
     "data": {
      "image/png": "[encoded data removed]",
      "text/plain": [
       "<Figure size 432x288 with 1 Axes>"
      ]
     },
     "metadata": {
      "needs_background": "light"
     },
     "output_type": "display_data"
    }
   ],
   "source": [
    "import numpy as np\n",
    "import matplotlib.pyplot as plt\n",
    "\n",
    "class Signal:\n",
    "  x = 0\n",
    "  n = 0\n",
    "  def __init__(self, xin, nStart, nEnd):\n",
    "    self.x = np.array(xin)\n",
    "    self.n = np.arange(nStart,nEnd+1,1)\n",
    "  def plot(self):\n",
    "    plt.stem(self.n, self.x)\n",
    "    plt.xticks(x.n)\n",
    "    plt.xlabel(\"n\")\n",
    "    plt.ylabel(\"values\")\n",
    "    plt.show()\n",
    "  @staticmethod\n",
    "  def matchSignals(sig1,sig2):\n",
    "    minIndex = np.min(np.append(sig1.n,sig2.n))\n",
    "    maxIndex = np.max(np.append(sig1.n,sig2.n))\n",
    "    newN = np.arange(minIndex, maxIndex+1, 1)\n",
    "    sig1filled = Signal(np.zeros(len(newN)), minIndex, maxIndex) \n",
    "    sig2filled = Signal(np.zeros(len(newN)), minIndex, maxIndex)\n",
    "    counter = 0\n",
    "    shift = 0 - minIndex\n",
    "    for i in sig1.n: \n",
    "      sig1filled.x[i+shift] = sig1.x[counter]\n",
    "      counter += 1\n",
    "    counter = 0 \n",
    "    for i in sig2.n: \n",
    "      sig2filled.x[i+shift] = sig2.x[counter]  \n",
    "      counter += 1\n",
    "    return sig1filled, sig2filled\n",
    "\n",
    "x = Signal([-1,2,1,-2],-3,0)\n",
    "y = Signal([1,2,1,0,1],-2,2)\n",
    "\n",
    "x,y = Signal.matchSignals(x,y)\n",
    "print(x.n)\n",
    "x.plot()"
   ]
  },
  {
   "cell_type": "code",
   "execution_count": 32,
   "metadata": {},
   "outputs": [
    {
     "data": {
      "image/png": "[encoded data removed]",
      "text/plain": [
       "<Figure size 432x288 with 1 Axes>"
      ]
     },
     "metadata": {
      "needs_background": "light"
     },
     "output_type": "display_data"
    }
   ],
   "source": [
    "y.plot()"
   ]
  }
 ],
 "metadata": {
  "interpreter": {
   "hash": "cdffa06966d5461771d1e9a7502308b634d3865493c386074fb70622f3d04d9e"
  },
  "kernelspec": {
   "display_name": "Python 3.9.6 64-bit",
   "language": "python",
   "name": "python3"
  },
  "language_info": {
   "codemirror_mode": {
    "name": "ipython",
    "version": 3
   },
   "file_extension": ".py",
   "mimetype": "text/x-python",
   "name": "python",
   "nbconvert_exporter": "python",
   "pygments_lexer": "ipython3",
   "version": "3.9.6"
  },
  "orig_nbformat": 4
 },
 "nbformat": 4,
 "nbformat_minor": 2
}
